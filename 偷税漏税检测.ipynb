{
 "cells": [
  {
   "cell_type": "markdown",
   "metadata": {},
   "source": [
    "#  企业偷税漏税自动检测"
   ]
  },
  {
   "cell_type": "markdown",
   "metadata": {},
   "source": [
    "## 目标：根据采集到销售店铺的数据，智能识别偷税行为。"
   ]
  },
  {
   "cell_type": "code",
   "execution_count": 1,
   "metadata": {},
   "outputs": [],
   "source": [
    "import pandas as pd\n",
    "data =pd.read_excel('偷漏税数据.xls')"
   ]
  },
  {
   "cell_type": "code",
   "execution_count": 2,
   "metadata": {
    "scrolled": true
   },
   "outputs": [
    {
     "data": {
      "text/html": [
       "<div>\n",
       "<style scoped>\n",
       "    .dataframe tbody tr th:only-of-type {\n",
       "        vertical-align: middle;\n",
       "    }\n",
       "\n",
       "    .dataframe tbody tr th {\n",
       "        vertical-align: top;\n",
       "    }\n",
       "\n",
       "    .dataframe thead th {\n",
       "        text-align: right;\n",
       "    }\n",
       "</style>\n",
       "<table border=\"1\" class=\"dataframe\">\n",
       "  <thead>\n",
       "    <tr style=\"text-align: right;\">\n",
       "      <th></th>\n",
       "      <th>纳税人编号</th>\n",
       "      <th>销售类型</th>\n",
       "      <th>销售模式</th>\n",
       "      <th>汽车销售平均毛利</th>\n",
       "      <th>维修毛利</th>\n",
       "      <th>企业维修收入占销售收入比重</th>\n",
       "      <th>增值税税负</th>\n",
       "      <th>存货周转率</th>\n",
       "      <th>成本费用利润率</th>\n",
       "      <th>整体理论税负</th>\n",
       "      <th>整体税负控制数</th>\n",
       "      <th>办牌率</th>\n",
       "      <th>单台办牌手续费收入</th>\n",
       "      <th>代办保险率</th>\n",
       "      <th>保费返还率</th>\n",
       "      <th>输出</th>\n",
       "    </tr>\n",
       "  </thead>\n",
       "  <tbody>\n",
       "    <tr>\n",
       "      <th>0</th>\n",
       "      <td>1</td>\n",
       "      <td>国产轿车</td>\n",
       "      <td>4S店</td>\n",
       "      <td>0.0635</td>\n",
       "      <td>0.3241</td>\n",
       "      <td>0.0879</td>\n",
       "      <td>0.0084</td>\n",
       "      <td>8.5241</td>\n",
       "      <td>0.0018</td>\n",
       "      <td>0.0166</td>\n",
       "      <td>0.0147</td>\n",
       "      <td>0.4000</td>\n",
       "      <td>0.02</td>\n",
       "      <td>0.7155</td>\n",
       "      <td>0.1500</td>\n",
       "      <td>正常</td>\n",
       "    </tr>\n",
       "    <tr>\n",
       "      <th>1</th>\n",
       "      <td>2</td>\n",
       "      <td>国产轿车</td>\n",
       "      <td>4S店</td>\n",
       "      <td>0.0520</td>\n",
       "      <td>0.2577</td>\n",
       "      <td>0.1394</td>\n",
       "      <td>0.0298</td>\n",
       "      <td>5.2782</td>\n",
       "      <td>-0.0013</td>\n",
       "      <td>0.0032</td>\n",
       "      <td>0.0137</td>\n",
       "      <td>0.3307</td>\n",
       "      <td>0.02</td>\n",
       "      <td>0.2697</td>\n",
       "      <td>0.1367</td>\n",
       "      <td>正常</td>\n",
       "    </tr>\n",
       "    <tr>\n",
       "      <th>2</th>\n",
       "      <td>3</td>\n",
       "      <td>国产轿车</td>\n",
       "      <td>4S店</td>\n",
       "      <td>0.0173</td>\n",
       "      <td>0.1965</td>\n",
       "      <td>0.1025</td>\n",
       "      <td>0.0067</td>\n",
       "      <td>19.8356</td>\n",
       "      <td>0.0014</td>\n",
       "      <td>0.0080</td>\n",
       "      <td>0.0061</td>\n",
       "      <td>0.2256</td>\n",
       "      <td>0.02</td>\n",
       "      <td>0.2445</td>\n",
       "      <td>0.1301</td>\n",
       "      <td>正常</td>\n",
       "    </tr>\n",
       "    <tr>\n",
       "      <th>3</th>\n",
       "      <td>4</td>\n",
       "      <td>国产轿车</td>\n",
       "      <td>一级代理商</td>\n",
       "      <td>0.0501</td>\n",
       "      <td>0.0000</td>\n",
       "      <td>0.0000</td>\n",
       "      <td>0.0000</td>\n",
       "      <td>1.0673</td>\n",
       "      <td>-0.3596</td>\n",
       "      <td>-0.1673</td>\n",
       "      <td>0.0000</td>\n",
       "      <td>0.0000</td>\n",
       "      <td>0.00</td>\n",
       "      <td>0.0000</td>\n",
       "      <td>0.0000</td>\n",
       "      <td>异常</td>\n",
       "    </tr>\n",
       "    <tr>\n",
       "      <th>4</th>\n",
       "      <td>5</td>\n",
       "      <td>进口轿车</td>\n",
       "      <td>4S店</td>\n",
       "      <td>0.0564</td>\n",
       "      <td>0.0034</td>\n",
       "      <td>0.0066</td>\n",
       "      <td>0.0017</td>\n",
       "      <td>12.8470</td>\n",
       "      <td>-0.0014</td>\n",
       "      <td>0.0123</td>\n",
       "      <td>0.0095</td>\n",
       "      <td>0.0039</td>\n",
       "      <td>0.08</td>\n",
       "      <td>0.0117</td>\n",
       "      <td>0.1872</td>\n",
       "      <td>正常</td>\n",
       "    </tr>\n",
       "  </tbody>\n",
       "</table>\n",
       "</div>"
      ],
      "text/plain": [
       "   纳税人编号  销售类型   销售模式  汽车销售平均毛利    维修毛利  企业维修收入占销售收入比重   增值税税负    存货周转率  \\\n",
       "0      1  国产轿车    4S店    0.0635  0.3241         0.0879  0.0084   8.5241   \n",
       "1      2  国产轿车    4S店    0.0520  0.2577         0.1394  0.0298   5.2782   \n",
       "2      3  国产轿车    4S店    0.0173  0.1965         0.1025  0.0067  19.8356   \n",
       "3      4  国产轿车  一级代理商    0.0501  0.0000         0.0000  0.0000   1.0673   \n",
       "4      5  进口轿车    4S店    0.0564  0.0034         0.0066  0.0017  12.8470   \n",
       "\n",
       "   成本费用利润率  整体理论税负  整体税负控制数     办牌率  单台办牌手续费收入   代办保险率   保费返还率  输出  \n",
       "0   0.0018  0.0166   0.0147  0.4000       0.02  0.7155  0.1500  正常  \n",
       "1  -0.0013  0.0032   0.0137  0.3307       0.02  0.2697  0.1367  正常  \n",
       "2   0.0014  0.0080   0.0061  0.2256       0.02  0.2445  0.1301  正常  \n",
       "3  -0.3596 -0.1673   0.0000  0.0000       0.00  0.0000  0.0000  异常  \n",
       "4  -0.0014  0.0123   0.0095  0.0039       0.08  0.0117  0.1872  正常  "
      ]
     },
     "execution_count": 2,
     "metadata": {},
     "output_type": "execute_result"
    }
   ],
   "source": [
    "data.head()"
   ]
  },
  {
   "cell_type": "markdown",
   "metadata": {},
   "source": [
    "### 经观察数据，筛选空值数据 ，并对比两类数据的差异"
   ]
  },
  {
   "cell_type": "code",
   "execution_count": 3,
   "metadata": {},
   "outputs": [],
   "source": [
    "data=data[(data['汽车销售平均毛利']!=0)| (data['维修毛利']!=0)| (data['企业维修收入占销售收入比重']!=0)| (data['增值税税负']!=0)|(data['存货周转率']!=0)]"
   ]
  },
  {
   "cell_type": "code",
   "execution_count": 4,
   "metadata": {},
   "outputs": [],
   "source": [
    "columns=data.describe().columns"
   ]
  },
  {
   "cell_type": "code",
   "execution_count": 5,
   "metadata": {},
   "outputs": [],
   "source": [
    "data_true=data[data['输出']=='正常']\n",
    "data_false=data[data['输出']=='异常']"
   ]
  },
  {
   "cell_type": "code",
   "execution_count": 6,
   "metadata": {},
   "outputs": [],
   "source": [
    "data2=pd.concat([data_true.describe(),data_false.describe()],axis=1)"
   ]
  },
  {
   "cell_type": "code",
   "execution_count": 7,
   "metadata": {},
   "outputs": [
    {
     "data": {
      "text/plain": [
       "Index(['纳税人编号', '汽车销售平均毛利', '维修毛利', '企业维修收入占销售收入比重', '增值税税负', '存货周转率',\n",
       "       '成本费用利润率', '整体理论税负', '整体税负控制数', '办牌率', '单台办牌手续费收入', '代办保险率', '保费返还率'],\n",
       "      dtype='object')"
      ]
     },
     "execution_count": 7,
     "metadata": {},
     "output_type": "execute_result"
    }
   ],
   "source": [
    "columns"
   ]
  },
  {
   "cell_type": "code",
   "execution_count": 11,
   "metadata": {},
   "outputs": [
    {
     "data": {
      "text/plain": [
       "纳税人编号            53.614286\n",
       "纳税人编号            68.953488\n",
       "汽车销售平均毛利          0.039199\n",
       "汽车销售平均毛利          0.004558\n",
       "维修毛利              0.308890\n",
       "维修毛利             -0.056174\n",
       "企业维修收入占销售收入比重     0.088906\n",
       "企业维修收入占销售收入比重     0.053430\n",
       "增值税税负             0.008576\n",
       "增值税税负             0.009937\n",
       "存货周转率            10.529039\n",
       "存货周转率            14.686005\n",
       "成本费用利润率           0.179729\n",
       "成本费用利润率           0.234860\n",
       "整体理论税负            0.011963\n",
       "整体理论税负            0.010616\n",
       "整体税负控制数           0.011541\n",
       "整体税负控制数           0.001286\n",
       "办牌率               0.155729\n",
       "办牌率               0.167733\n",
       "单台办牌手续费收入         0.016450\n",
       "单台办牌手续费收入         0.020477\n",
       "代办保险率             0.244171\n",
       "代办保险率             0.092674\n",
       "保费返还率             0.055056\n",
       "保费返还率             0.023316\n",
       "Name: mean, dtype: float64"
      ]
     },
     "execution_count": 11,
     "metadata": {},
     "output_type": "execute_result"
    }
   ],
   "source": [
    "data2[columns].T['mean']"
   ]
  },
  {
   "cell_type": "code",
   "execution_count": 10,
   "metadata": {},
   "outputs": [
    {
     "data": {
      "text/plain": [
       "(70, 43)"
      ]
     },
     "execution_count": 10,
     "metadata": {},
     "output_type": "execute_result"
    }
   ],
   "source": [
    "len(data_true),len(data_false)"
   ]
  },
  {
   "cell_type": "markdown",
   "metadata": {},
   "source": [
    "### 根据正常和异常的样本进行描述对比，特征：‘汽车销售毛利’，‘维修毛利’，'企业维修收入占销售收入比重','存货周转率‘,'成本费用利润率’'代办保险 率','整体税负控制数 ','保费返还率'具有显著性差异，因此具体考虑以上几个特征"
   ]
  },
  {
   "cell_type": "code",
   "execution_count": 11,
   "metadata": {},
   "outputs": [
    {
     "data": {
      "text/html": [
       "<div>\n",
       "<style scoped>\n",
       "    .dataframe tbody tr th:only-of-type {\n",
       "        vertical-align: middle;\n",
       "    }\n",
       "\n",
       "    .dataframe tbody tr th {\n",
       "        vertical-align: top;\n",
       "    }\n",
       "\n",
       "    .dataframe thead th {\n",
       "        text-align: right;\n",
       "    }\n",
       "</style>\n",
       "<table border=\"1\" class=\"dataframe\">\n",
       "  <thead>\n",
       "    <tr style=\"text-align: right;\">\n",
       "      <th></th>\n",
       "      <th>成本费用利润率</th>\n",
       "      <th>成本费用利润率</th>\n",
       "      <th>整体理论税负</th>\n",
       "      <th>整体理论税负</th>\n",
       "    </tr>\n",
       "  </thead>\n",
       "  <tbody>\n",
       "    <tr>\n",
       "      <th>count</th>\n",
       "      <td>70.000000</td>\n",
       "      <td>43.000000</td>\n",
       "      <td>70.000000</td>\n",
       "      <td>43.000000</td>\n",
       "    </tr>\n",
       "    <tr>\n",
       "      <th>mean</th>\n",
       "      <td>0.179729</td>\n",
       "      <td>0.234860</td>\n",
       "      <td>0.011963</td>\n",
       "      <td>0.010616</td>\n",
       "    </tr>\n",
       "    <tr>\n",
       "      <th>std</th>\n",
       "      <td>0.866830</td>\n",
       "      <td>1.551397</td>\n",
       "      <td>0.011765</td>\n",
       "      <td>0.053682</td>\n",
       "    </tr>\n",
       "    <tr>\n",
       "      <th>min</th>\n",
       "      <td>-0.315900</td>\n",
       "      <td>-1.000000</td>\n",
       "      <td>-0.014300</td>\n",
       "      <td>-0.181000</td>\n",
       "    </tr>\n",
       "    <tr>\n",
       "      <th>25%</th>\n",
       "      <td>-0.001000</td>\n",
       "      <td>-0.083700</td>\n",
       "      <td>0.006325</td>\n",
       "      <td>0.000350</td>\n",
       "    </tr>\n",
       "    <tr>\n",
       "      <th>50%</th>\n",
       "      <td>0.001400</td>\n",
       "      <td>0.000000</td>\n",
       "      <td>0.011750</td>\n",
       "      <td>0.007500</td>\n",
       "    </tr>\n",
       "    <tr>\n",
       "      <th>75%</th>\n",
       "      <td>0.018300</td>\n",
       "      <td>0.005950</td>\n",
       "      <td>0.016375</td>\n",
       "      <td>0.017950</td>\n",
       "    </tr>\n",
       "    <tr>\n",
       "      <th>max</th>\n",
       "      <td>6.965100</td>\n",
       "      <td>9.827200</td>\n",
       "      <td>0.068000</td>\n",
       "      <td>0.159300</td>\n",
       "    </tr>\n",
       "  </tbody>\n",
       "</table>\n",
       "</div>"
      ],
      "text/plain": [
       "         成本费用利润率    成本费用利润率     整体理论税负     整体理论税负\n",
       "count  70.000000  43.000000  70.000000  43.000000\n",
       "mean    0.179729   0.234860   0.011963   0.010616\n",
       "std     0.866830   1.551397   0.011765   0.053682\n",
       "min    -0.315900  -1.000000  -0.014300  -0.181000\n",
       "25%    -0.001000  -0.083700   0.006325   0.000350\n",
       "50%     0.001400   0.000000   0.011750   0.007500\n",
       "75%     0.018300   0.005950   0.016375   0.017950\n",
       "max     6.965100   9.827200   0.068000   0.159300"
      ]
     },
     "execution_count": 11,
     "metadata": {},
     "output_type": "execute_result"
    }
   ],
   "source": [
    "data2[['成本费用利润率', '整体理论税负']]"
   ]
  },
  {
   "cell_type": "code",
   "execution_count": 12,
   "metadata": {},
   "outputs": [
    {
     "data": {
      "text/plain": [
       "Index(['纳税人编号', '汽车销售平均毛利', '维修毛利', '企业维修收入占销售收入比重', '增值税税负', '存货周转率',\n",
       "       '成本费用利润率', '整体理论税负', '整体税负控制数', '办牌率', '单台办牌手续费收入', '代办保险率', '保费返还率'],\n",
       "      dtype='object')"
      ]
     },
     "execution_count": 12,
     "metadata": {},
     "output_type": "execute_result"
    }
   ],
   "source": [
    "columns"
   ]
  },
  {
   "cell_type": "code",
   "execution_count": 13,
   "metadata": {},
   "outputs": [],
   "source": [
    "data_feature=data[['汽车销售平均毛利','维修毛利','企业维修收入占销售收入比重','存货周转率','成本费用利润率','整体税负控制数','办牌率','单台办牌手续费收入','代办保险率','保费返还率']]"
   ]
  },
  {
   "cell_type": "markdown",
   "metadata": {},
   "source": [
    "# 归一化&编码"
   ]
  },
  {
   "cell_type": "code",
   "execution_count": 14,
   "metadata": {},
   "outputs": [],
   "source": [
    "x_train=(data_feature-data_feature.mean(axis=0))/data_feature.std()"
   ]
  },
  {
   "cell_type": "code",
   "execution_count": 15,
   "metadata": {
    "scrolled": true
   },
   "outputs": [],
   "source": [
    "y_train =data['输出']\n",
    "#y_train =pd.get_dummies(y_train)  \n",
    "y_train=y_train.apply(lambda x : 1  if x=='正常' else 0 )"
   ]
  },
  {
   "cell_type": "code",
   "execution_count": 16,
   "metadata": {
    "scrolled": true
   },
   "outputs": [
    {
     "data": {
      "text/plain": [
       "0      1\n",
       "1      1\n",
       "2      1\n",
       "3      0\n",
       "4      1\n",
       "5      1\n",
       "6      1\n",
       "7      0\n",
       "8      0\n",
       "9      1\n",
       "10     1\n",
       "11     1\n",
       "12     1\n",
       "13     1\n",
       "14     1\n",
       "15     1\n",
       "16     1\n",
       "17     1\n",
       "18     1\n",
       "19     0\n",
       "20     0\n",
       "21     0\n",
       "22     0\n",
       "23     1\n",
       "24     0\n",
       "25     0\n",
       "26     0\n",
       "27     1\n",
       "28     1\n",
       "29     1\n",
       "      ..\n",
       "87     0\n",
       "88     0\n",
       "90     0\n",
       "92     0\n",
       "93     1\n",
       "94     1\n",
       "95     1\n",
       "96     1\n",
       "97     0\n",
       "98     1\n",
       "99     1\n",
       "100    0\n",
       "101    0\n",
       "102    1\n",
       "103    1\n",
       "104    0\n",
       "106    1\n",
       "107    1\n",
       "108    1\n",
       "109    0\n",
       "110    1\n",
       "113    0\n",
       "114    1\n",
       "116    0\n",
       "117    0\n",
       "118    0\n",
       "120    0\n",
       "121    0\n",
       "122    1\n",
       "123    0\n",
       "Name: 输出, Length: 113, dtype: int64"
      ]
     },
     "execution_count": 16,
     "metadata": {},
     "output_type": "execute_result"
    }
   ],
   "source": [
    "y_train"
   ]
  },
  {
   "cell_type": "code",
   "execution_count": 17,
   "metadata": {},
   "outputs": [],
   "source": [
    "# 划分数据集：\n",
    "from sklearn.model_selection import train_test_split\n",
    "X_train ,X_test,y_train,y_test =train_test_split(x_train,y_train,test_size=0.3)"
   ]
  },
  {
   "cell_type": "markdown",
   "metadata": {},
   "source": [
    "# 调用决策树"
   ]
  },
  {
   "cell_type": "code",
   "execution_count": 18,
   "metadata": {},
   "outputs": [
    {
     "data": {
      "text/plain": [
       "DecisionTreeClassifier(class_weight=None, criterion='gini', max_depth=None,\n",
       "            max_features=None, max_leaf_nodes=None,\n",
       "            min_impurity_decrease=0.0, min_impurity_split=None,\n",
       "            min_samples_leaf=1, min_samples_split=2,\n",
       "            min_weight_fraction_leaf=0.0, presort=False, random_state=None,\n",
       "            splitter='best')"
      ]
     },
     "execution_count": 18,
     "metadata": {},
     "output_type": "execute_result"
    }
   ],
   "source": [
    "from sklearn.tree import DecisionTreeClassifier\n",
    "tree= DecisionTreeClassifier(criterion ='gini')\n",
    "tree.fit(X_train,y_train)"
   ]
  },
  {
   "cell_type": "code",
   "execution_count": 19,
   "metadata": {},
   "outputs": [],
   "source": [
    "predict=tree.predict(X_test)"
   ]
  },
  {
   "cell_type": "code",
   "execution_count": 20,
   "metadata": {},
   "outputs": [
    {
     "data": {
      "text/plain": [
       "array([[ 7,  5],\n",
       "       [ 0, 22]], dtype=int64)"
      ]
     },
     "execution_count": 20,
     "metadata": {},
     "output_type": "execute_result"
    }
   ],
   "source": [
    "#构建混淆矩阵\n",
    "from sklearn.metrics import accuracy_score ,confusion_matrix  ,roc_auc_score\n",
    "confusion_matrix (y_test,predict)"
   ]
  },
  {
   "cell_type": "code",
   "execution_count": 21,
   "metadata": {
    "scrolled": true
   },
   "outputs": [
    {
     "data": {
      "text/plain": [
       "0.8529411764705882"
      ]
     },
     "execution_count": 21,
     "metadata": {},
     "output_type": "execute_result"
    }
   ],
   "source": [
    "accuracy_score(y_test,predict)"
   ]
  }
 ],
 "metadata": {
  "kernelspec": {
   "display_name": "Python 3",
   "language": "python",
   "name": "python3"
  },
  "language_info": {
   "codemirror_mode": {
    "name": "ipython",
    "version": 3
   },
   "file_extension": ".py",
   "mimetype": "text/x-python",
   "name": "python",
   "nbconvert_exporter": "python",
   "pygments_lexer": "ipython3",
   "version": "3.6.1"
  }
 },
 "nbformat": 4,
 "nbformat_minor": 2
}
